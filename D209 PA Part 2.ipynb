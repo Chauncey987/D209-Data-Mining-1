{
 "cells": [
  {
   "cell_type": "code",
   "execution_count": 32,
   "id": "8e8333a3",
   "metadata": {},
   "outputs": [],
   "source": [
    "#First things first, import all of the necessary packages\n",
    "import pandas as pd\n",
    "import numpy as np\n",
    "\n",
    "#For the visualizations import:\n",
    "import seaborn as sns\n",
    "import matplotlib.pyplot as plt\n",
    "%matplotlib inline\n",
    "\n",
    "#For Scikit-learn\n",
    "import sklearn\n",
    "from sklearn import preprocessing\n",
    "from sklearn.tree import DecisionTreeClassifier\n",
    "from sklearn.metrics import mean_squared_error\n",
    "from sklearn.metrics import confusion_matrix\n",
    "from sklearn.preprocessing import LabelEncoder\n",
    "from sklearn.model_selection import train_test_split\n",
    "\n",
    "#And for the statistical tests:\n",
    "import scipy.stats as stats\n",
    "import pylab\n",
    "from statsmodels.formula.api import ols\n",
    "import statistics"
   ]
  },
  {
   "cell_type": "code",
   "execution_count": 2,
   "id": "2e683ee4",
   "metadata": {},
   "outputs": [],
   "source": [
    "# Now lets import our dataset using the pd.read_csv function\n",
    "churn_df = pd.read_csv('churn_clean.csv')"
   ]
  },
  {
   "cell_type": "code",
   "execution_count": 3,
   "id": "5b59ebd2",
   "metadata": {},
   "outputs": [
    {
     "data": {
      "text/html": [
       "<div>\n",
       "<style scoped>\n",
       "    .dataframe tbody tr th:only-of-type {\n",
       "        vertical-align: middle;\n",
       "    }\n",
       "\n",
       "    .dataframe tbody tr th {\n",
       "        vertical-align: top;\n",
       "    }\n",
       "\n",
       "    .dataframe thead th {\n",
       "        text-align: right;\n",
       "    }\n",
       "</style>\n",
       "<table border=\"1\" class=\"dataframe\">\n",
       "  <thead>\n",
       "    <tr style=\"text-align: right;\">\n",
       "      <th></th>\n",
       "      <th>CaseOrder</th>\n",
       "      <th>Customer_id</th>\n",
       "      <th>Interaction</th>\n",
       "      <th>UID</th>\n",
       "      <th>City</th>\n",
       "      <th>State</th>\n",
       "      <th>County</th>\n",
       "      <th>Zip</th>\n",
       "      <th>Lat</th>\n",
       "      <th>Lng</th>\n",
       "      <th>...</th>\n",
       "      <th>MonthlyCharge</th>\n",
       "      <th>Bandwidth_GB_Year</th>\n",
       "      <th>Item1</th>\n",
       "      <th>Item2</th>\n",
       "      <th>Item3</th>\n",
       "      <th>Item4</th>\n",
       "      <th>Item5</th>\n",
       "      <th>Item6</th>\n",
       "      <th>Item7</th>\n",
       "      <th>Item8</th>\n",
       "    </tr>\n",
       "  </thead>\n",
       "  <tbody>\n",
       "    <tr>\n",
       "      <th>0</th>\n",
       "      <td>1</td>\n",
       "      <td>K409198</td>\n",
       "      <td>aa90260b-4141-4a24-8e36-b04ce1f4f77b</td>\n",
       "      <td>e885b299883d4f9fb18e39c75155d990</td>\n",
       "      <td>Point Baker</td>\n",
       "      <td>AK</td>\n",
       "      <td>Prince of Wales-Hyder</td>\n",
       "      <td>99927</td>\n",
       "      <td>56.25100</td>\n",
       "      <td>-133.37571</td>\n",
       "      <td>...</td>\n",
       "      <td>172.455519</td>\n",
       "      <td>904.536110</td>\n",
       "      <td>5</td>\n",
       "      <td>5</td>\n",
       "      <td>5</td>\n",
       "      <td>3</td>\n",
       "      <td>4</td>\n",
       "      <td>4</td>\n",
       "      <td>3</td>\n",
       "      <td>4</td>\n",
       "    </tr>\n",
       "    <tr>\n",
       "      <th>1</th>\n",
       "      <td>2</td>\n",
       "      <td>S120509</td>\n",
       "      <td>fb76459f-c047-4a9d-8af9-e0f7d4ac2524</td>\n",
       "      <td>f2de8bef964785f41a2959829830fb8a</td>\n",
       "      <td>West Branch</td>\n",
       "      <td>MI</td>\n",
       "      <td>Ogemaw</td>\n",
       "      <td>48661</td>\n",
       "      <td>44.32893</td>\n",
       "      <td>-84.24080</td>\n",
       "      <td>...</td>\n",
       "      <td>242.632554</td>\n",
       "      <td>800.982766</td>\n",
       "      <td>3</td>\n",
       "      <td>4</td>\n",
       "      <td>3</td>\n",
       "      <td>3</td>\n",
       "      <td>4</td>\n",
       "      <td>3</td>\n",
       "      <td>4</td>\n",
       "      <td>4</td>\n",
       "    </tr>\n",
       "    <tr>\n",
       "      <th>2</th>\n",
       "      <td>3</td>\n",
       "      <td>K191035</td>\n",
       "      <td>344d114c-3736-4be5-98f7-c72c281e2d35</td>\n",
       "      <td>f1784cfa9f6d92ae816197eb175d3c71</td>\n",
       "      <td>Yamhill</td>\n",
       "      <td>OR</td>\n",
       "      <td>Yamhill</td>\n",
       "      <td>97148</td>\n",
       "      <td>45.35589</td>\n",
       "      <td>-123.24657</td>\n",
       "      <td>...</td>\n",
       "      <td>159.947583</td>\n",
       "      <td>2054.706961</td>\n",
       "      <td>4</td>\n",
       "      <td>4</td>\n",
       "      <td>2</td>\n",
       "      <td>4</td>\n",
       "      <td>4</td>\n",
       "      <td>3</td>\n",
       "      <td>3</td>\n",
       "      <td>3</td>\n",
       "    </tr>\n",
       "    <tr>\n",
       "      <th>3</th>\n",
       "      <td>4</td>\n",
       "      <td>D90850</td>\n",
       "      <td>abfa2b40-2d43-4994-b15a-989b8c79e311</td>\n",
       "      <td>dc8a365077241bb5cd5ccd305136b05e</td>\n",
       "      <td>Del Mar</td>\n",
       "      <td>CA</td>\n",
       "      <td>San Diego</td>\n",
       "      <td>92014</td>\n",
       "      <td>32.96687</td>\n",
       "      <td>-117.24798</td>\n",
       "      <td>...</td>\n",
       "      <td>119.956840</td>\n",
       "      <td>2164.579412</td>\n",
       "      <td>4</td>\n",
       "      <td>4</td>\n",
       "      <td>4</td>\n",
       "      <td>2</td>\n",
       "      <td>5</td>\n",
       "      <td>4</td>\n",
       "      <td>3</td>\n",
       "      <td>3</td>\n",
       "    </tr>\n",
       "    <tr>\n",
       "      <th>4</th>\n",
       "      <td>5</td>\n",
       "      <td>K662701</td>\n",
       "      <td>68a861fd-0d20-4e51-a587-8a90407ee574</td>\n",
       "      <td>aabb64a116e83fdc4befc1fbab1663f9</td>\n",
       "      <td>Needville</td>\n",
       "      <td>TX</td>\n",
       "      <td>Fort Bend</td>\n",
       "      <td>77461</td>\n",
       "      <td>29.38012</td>\n",
       "      <td>-95.80673</td>\n",
       "      <td>...</td>\n",
       "      <td>149.948316</td>\n",
       "      <td>271.493436</td>\n",
       "      <td>4</td>\n",
       "      <td>4</td>\n",
       "      <td>4</td>\n",
       "      <td>3</td>\n",
       "      <td>4</td>\n",
       "      <td>4</td>\n",
       "      <td>4</td>\n",
       "      <td>5</td>\n",
       "    </tr>\n",
       "  </tbody>\n",
       "</table>\n",
       "<p>5 rows × 50 columns</p>\n",
       "</div>"
      ],
      "text/plain": [
       "   CaseOrder Customer_id                           Interaction  \\\n",
       "0          1     K409198  aa90260b-4141-4a24-8e36-b04ce1f4f77b   \n",
       "1          2     S120509  fb76459f-c047-4a9d-8af9-e0f7d4ac2524   \n",
       "2          3     K191035  344d114c-3736-4be5-98f7-c72c281e2d35   \n",
       "3          4      D90850  abfa2b40-2d43-4994-b15a-989b8c79e311   \n",
       "4          5     K662701  68a861fd-0d20-4e51-a587-8a90407ee574   \n",
       "\n",
       "                                UID         City State                 County  \\\n",
       "0  e885b299883d4f9fb18e39c75155d990  Point Baker    AK  Prince of Wales-Hyder   \n",
       "1  f2de8bef964785f41a2959829830fb8a  West Branch    MI                 Ogemaw   \n",
       "2  f1784cfa9f6d92ae816197eb175d3c71      Yamhill    OR                Yamhill   \n",
       "3  dc8a365077241bb5cd5ccd305136b05e      Del Mar    CA              San Diego   \n",
       "4  aabb64a116e83fdc4befc1fbab1663f9    Needville    TX              Fort Bend   \n",
       "\n",
       "     Zip       Lat        Lng  ...  MonthlyCharge Bandwidth_GB_Year Item1  \\\n",
       "0  99927  56.25100 -133.37571  ...     172.455519        904.536110     5   \n",
       "1  48661  44.32893  -84.24080  ...     242.632554        800.982766     3   \n",
       "2  97148  45.35589 -123.24657  ...     159.947583       2054.706961     4   \n",
       "3  92014  32.96687 -117.24798  ...     119.956840       2164.579412     4   \n",
       "4  77461  29.38012  -95.80673  ...     149.948316        271.493436     4   \n",
       "\n",
       "  Item2  Item3  Item4  Item5 Item6 Item7 Item8  \n",
       "0     5      5      3      4     4     3     4  \n",
       "1     4      3      3      4     3     4     4  \n",
       "2     4      2      4      4     3     3     3  \n",
       "3     4      4      2      5     4     3     3  \n",
       "4     4      4      3      4     4     4     5  \n",
       "\n",
       "[5 rows x 50 columns]"
      ]
     },
     "execution_count": 3,
     "metadata": {},
     "output_type": "execute_result"
    }
   ],
   "source": [
    "# To stay with best practices, we use the head function to look \n",
    "churn_df.head()"
   ]
  },
  {
   "cell_type": "code",
   "execution_count": 4,
   "id": "899ffd38",
   "metadata": {},
   "outputs": [],
   "source": [
    "# We notice that the columns for items1 through 8 could be named a bit more obviously. Lets change those names.\n",
    "churn_df.rename(columns ={'Item1':'Timely_Response', 'Item2':'Timely_Fixes', 'Item3':'Timely_Replacements', 'Item4':'Reliablility', 'Item5':'Plentiful_Options', 'Item6':'Respectfullness', 'Item7':'Courteous_Exchanges', 'Item8':'Active_Listening'}, inplace=True)"
   ]
  },
  {
   "cell_type": "code",
   "execution_count": 5,
   "id": "71ee3abe",
   "metadata": {},
   "outputs": [
    {
     "data": {
      "text/html": [
       "<div>\n",
       "<style scoped>\n",
       "    .dataframe tbody tr th:only-of-type {\n",
       "        vertical-align: middle;\n",
       "    }\n",
       "\n",
       "    .dataframe tbody tr th {\n",
       "        vertical-align: top;\n",
       "    }\n",
       "\n",
       "    .dataframe thead th {\n",
       "        text-align: right;\n",
       "    }\n",
       "</style>\n",
       "<table border=\"1\" class=\"dataframe\">\n",
       "  <thead>\n",
       "    <tr style=\"text-align: right;\">\n",
       "      <th></th>\n",
       "      <th>CaseOrder</th>\n",
       "      <th>Customer_id</th>\n",
       "      <th>Interaction</th>\n",
       "      <th>UID</th>\n",
       "      <th>City</th>\n",
       "      <th>State</th>\n",
       "      <th>County</th>\n",
       "      <th>Zip</th>\n",
       "      <th>Lat</th>\n",
       "      <th>Lng</th>\n",
       "      <th>...</th>\n",
       "      <th>MonthlyCharge</th>\n",
       "      <th>Bandwidth_GB_Year</th>\n",
       "      <th>Timely_Response</th>\n",
       "      <th>Timely_Fixes</th>\n",
       "      <th>Timely_Replacements</th>\n",
       "      <th>Reliablility</th>\n",
       "      <th>Plentiful_Options</th>\n",
       "      <th>Respectfullness</th>\n",
       "      <th>Courteous_Exchanges</th>\n",
       "      <th>Active_Listening</th>\n",
       "    </tr>\n",
       "  </thead>\n",
       "  <tbody>\n",
       "    <tr>\n",
       "      <th>0</th>\n",
       "      <td>1</td>\n",
       "      <td>K409198</td>\n",
       "      <td>aa90260b-4141-4a24-8e36-b04ce1f4f77b</td>\n",
       "      <td>e885b299883d4f9fb18e39c75155d990</td>\n",
       "      <td>Point Baker</td>\n",
       "      <td>AK</td>\n",
       "      <td>Prince of Wales-Hyder</td>\n",
       "      <td>99927</td>\n",
       "      <td>56.25100</td>\n",
       "      <td>-133.37571</td>\n",
       "      <td>...</td>\n",
       "      <td>172.455519</td>\n",
       "      <td>904.536110</td>\n",
       "      <td>5</td>\n",
       "      <td>5</td>\n",
       "      <td>5</td>\n",
       "      <td>3</td>\n",
       "      <td>4</td>\n",
       "      <td>4</td>\n",
       "      <td>3</td>\n",
       "      <td>4</td>\n",
       "    </tr>\n",
       "    <tr>\n",
       "      <th>1</th>\n",
       "      <td>2</td>\n",
       "      <td>S120509</td>\n",
       "      <td>fb76459f-c047-4a9d-8af9-e0f7d4ac2524</td>\n",
       "      <td>f2de8bef964785f41a2959829830fb8a</td>\n",
       "      <td>West Branch</td>\n",
       "      <td>MI</td>\n",
       "      <td>Ogemaw</td>\n",
       "      <td>48661</td>\n",
       "      <td>44.32893</td>\n",
       "      <td>-84.24080</td>\n",
       "      <td>...</td>\n",
       "      <td>242.632554</td>\n",
       "      <td>800.982766</td>\n",
       "      <td>3</td>\n",
       "      <td>4</td>\n",
       "      <td>3</td>\n",
       "      <td>3</td>\n",
       "      <td>4</td>\n",
       "      <td>3</td>\n",
       "      <td>4</td>\n",
       "      <td>4</td>\n",
       "    </tr>\n",
       "    <tr>\n",
       "      <th>2</th>\n",
       "      <td>3</td>\n",
       "      <td>K191035</td>\n",
       "      <td>344d114c-3736-4be5-98f7-c72c281e2d35</td>\n",
       "      <td>f1784cfa9f6d92ae816197eb175d3c71</td>\n",
       "      <td>Yamhill</td>\n",
       "      <td>OR</td>\n",
       "      <td>Yamhill</td>\n",
       "      <td>97148</td>\n",
       "      <td>45.35589</td>\n",
       "      <td>-123.24657</td>\n",
       "      <td>...</td>\n",
       "      <td>159.947583</td>\n",
       "      <td>2054.706961</td>\n",
       "      <td>4</td>\n",
       "      <td>4</td>\n",
       "      <td>2</td>\n",
       "      <td>4</td>\n",
       "      <td>4</td>\n",
       "      <td>3</td>\n",
       "      <td>3</td>\n",
       "      <td>3</td>\n",
       "    </tr>\n",
       "    <tr>\n",
       "      <th>3</th>\n",
       "      <td>4</td>\n",
       "      <td>D90850</td>\n",
       "      <td>abfa2b40-2d43-4994-b15a-989b8c79e311</td>\n",
       "      <td>dc8a365077241bb5cd5ccd305136b05e</td>\n",
       "      <td>Del Mar</td>\n",
       "      <td>CA</td>\n",
       "      <td>San Diego</td>\n",
       "      <td>92014</td>\n",
       "      <td>32.96687</td>\n",
       "      <td>-117.24798</td>\n",
       "      <td>...</td>\n",
       "      <td>119.956840</td>\n",
       "      <td>2164.579412</td>\n",
       "      <td>4</td>\n",
       "      <td>4</td>\n",
       "      <td>4</td>\n",
       "      <td>2</td>\n",
       "      <td>5</td>\n",
       "      <td>4</td>\n",
       "      <td>3</td>\n",
       "      <td>3</td>\n",
       "    </tr>\n",
       "    <tr>\n",
       "      <th>4</th>\n",
       "      <td>5</td>\n",
       "      <td>K662701</td>\n",
       "      <td>68a861fd-0d20-4e51-a587-8a90407ee574</td>\n",
       "      <td>aabb64a116e83fdc4befc1fbab1663f9</td>\n",
       "      <td>Needville</td>\n",
       "      <td>TX</td>\n",
       "      <td>Fort Bend</td>\n",
       "      <td>77461</td>\n",
       "      <td>29.38012</td>\n",
       "      <td>-95.80673</td>\n",
       "      <td>...</td>\n",
       "      <td>149.948316</td>\n",
       "      <td>271.493436</td>\n",
       "      <td>4</td>\n",
       "      <td>4</td>\n",
       "      <td>4</td>\n",
       "      <td>3</td>\n",
       "      <td>4</td>\n",
       "      <td>4</td>\n",
       "      <td>4</td>\n",
       "      <td>5</td>\n",
       "    </tr>\n",
       "  </tbody>\n",
       "</table>\n",
       "<p>5 rows × 50 columns</p>\n",
       "</div>"
      ],
      "text/plain": [
       "   CaseOrder Customer_id                           Interaction  \\\n",
       "0          1     K409198  aa90260b-4141-4a24-8e36-b04ce1f4f77b   \n",
       "1          2     S120509  fb76459f-c047-4a9d-8af9-e0f7d4ac2524   \n",
       "2          3     K191035  344d114c-3736-4be5-98f7-c72c281e2d35   \n",
       "3          4      D90850  abfa2b40-2d43-4994-b15a-989b8c79e311   \n",
       "4          5     K662701  68a861fd-0d20-4e51-a587-8a90407ee574   \n",
       "\n",
       "                                UID         City State                 County  \\\n",
       "0  e885b299883d4f9fb18e39c75155d990  Point Baker    AK  Prince of Wales-Hyder   \n",
       "1  f2de8bef964785f41a2959829830fb8a  West Branch    MI                 Ogemaw   \n",
       "2  f1784cfa9f6d92ae816197eb175d3c71      Yamhill    OR                Yamhill   \n",
       "3  dc8a365077241bb5cd5ccd305136b05e      Del Mar    CA              San Diego   \n",
       "4  aabb64a116e83fdc4befc1fbab1663f9    Needville    TX              Fort Bend   \n",
       "\n",
       "     Zip       Lat        Lng  ...  MonthlyCharge Bandwidth_GB_Year  \\\n",
       "0  99927  56.25100 -133.37571  ...     172.455519        904.536110   \n",
       "1  48661  44.32893  -84.24080  ...     242.632554        800.982766   \n",
       "2  97148  45.35589 -123.24657  ...     159.947583       2054.706961   \n",
       "3  92014  32.96687 -117.24798  ...     119.956840       2164.579412   \n",
       "4  77461  29.38012  -95.80673  ...     149.948316        271.493436   \n",
       "\n",
       "  Timely_Response Timely_Fixes  Timely_Replacements  Reliablility  \\\n",
       "0               5            5                    5             3   \n",
       "1               3            4                    3             3   \n",
       "2               4            4                    2             4   \n",
       "3               4            4                    4             2   \n",
       "4               4            4                    4             3   \n",
       "\n",
       "   Plentiful_Options Respectfullness Courteous_Exchanges Active_Listening  \n",
       "0                  4               4                   3                4  \n",
       "1                  4               3                   4                4  \n",
       "2                  4               3                   3                3  \n",
       "3                  5               4                   3                3  \n",
       "4                  4               4                   4                5  \n",
       "\n",
       "[5 rows x 50 columns]"
      ]
     },
     "execution_count": 5,
     "metadata": {},
     "output_type": "execute_result"
    }
   ],
   "source": [
    "# Lets pull the head of the dataframe again to make sure our changes went through.\n",
    "churn_df.head()"
   ]
  },
  {
   "cell_type": "code",
   "execution_count": 6,
   "id": "8294a636",
   "metadata": {},
   "outputs": [],
   "source": [
    "#Okay now lets take a look at these binary (yes/no) and ordinal categorical varaibles. We can convert these \n",
    "#to numeric values to enable them to work with our model that we create.\n",
    "\n",
    "#Convert the binary varibles\n",
    "churn_df['DummyChurn'] = [1 if v == 'Yes' else 0 for v in churn_df['Churn']]"
   ]
  },
  {
   "cell_type": "code",
   "execution_count": 7,
   "id": "ae4b6de1",
   "metadata": {},
   "outputs": [
    {
     "data": {
      "text/plain": [
       "CaseOrder                  0\n",
       "Customer_id                0\n",
       "Interaction                0\n",
       "UID                        0\n",
       "City                       0\n",
       "State                      0\n",
       "County                     0\n",
       "Zip                        0\n",
       "Lat                        0\n",
       "Lng                        0\n",
       "Population                 0\n",
       "Area                       0\n",
       "TimeZone                   0\n",
       "Job                        0\n",
       "Children                   0\n",
       "Age                        0\n",
       "Income                     0\n",
       "Marital                    0\n",
       "Gender                     0\n",
       "Churn                      0\n",
       "Outage_sec_perweek         0\n",
       "Email                      0\n",
       "Contacts                   0\n",
       "Yearly_equip_failure       0\n",
       "Techie                     0\n",
       "Contract                   0\n",
       "Port_modem                 0\n",
       "Tablet                     0\n",
       "InternetService         2129\n",
       "Phone                      0\n",
       "Multiple                   0\n",
       "OnlineSecurity             0\n",
       "OnlineBackup               0\n",
       "DeviceProtection           0\n",
       "TechSupport                0\n",
       "StreamingTV                0\n",
       "StreamingMovies            0\n",
       "PaperlessBilling           0\n",
       "PaymentMethod              0\n",
       "Tenure                     0\n",
       "MonthlyCharge              0\n",
       "Bandwidth_GB_Year          0\n",
       "Timely_Response            0\n",
       "Timely_Fixes               0\n",
       "Timely_Replacements        0\n",
       "Reliablility               0\n",
       "Plentiful_Options          0\n",
       "Respectfullness            0\n",
       "Courteous_Exchanges        0\n",
       "Active_Listening           0\n",
       "DummyChurn                 0\n",
       "dtype: int64"
      ]
     },
     "execution_count": 7,
     "metadata": {},
     "output_type": "execute_result"
    }
   ],
   "source": [
    "# Checking for Null Values to prevent\n",
    "churn_df.isna().sum()"
   ]
  },
  {
   "cell_type": "code",
   "execution_count": 8,
   "id": "bf941355",
   "metadata": {},
   "outputs": [],
   "source": [
    "# Now lets Drop some of the columns that arent necessary.\n",
    "churn_df = churn_df.drop(columns=['CaseOrder', 'Customer_id', 'Interaction', 'UID', 'City', 'State', 'County' , 'Zip' , 'Lat' , 'Lng' , 'Population', 'Area', 'TimeZone', 'Job', 'Marital', 'PaymentMethod'])\n",
    "\n",
    "#Lets also drop the original categorical varible columns as well since we dont need them anymore\n",
    "churn_df = churn_df.drop(columns=['Gender' , 'Churn' , 'Techie' , 'Contract' , 'Port_modem' , 'Tablet' ,'InternetService' , 'Phone' , 'Multiple' ,'OnlineSecurity' ,'OnlineBackup', 'DeviceProtection' ,'TechSupport' ,'StreamingTV', 'StreamingMovies', 'PaperlessBilling'])"
   ]
  },
  {
   "cell_type": "code",
   "execution_count": 9,
   "id": "0d565459",
   "metadata": {},
   "outputs": [
    {
     "data": {
      "text/html": [
       "<div>\n",
       "<style scoped>\n",
       "    .dataframe tbody tr th:only-of-type {\n",
       "        vertical-align: middle;\n",
       "    }\n",
       "\n",
       "    .dataframe tbody tr th {\n",
       "        vertical-align: top;\n",
       "    }\n",
       "\n",
       "    .dataframe thead th {\n",
       "        text-align: right;\n",
       "    }\n",
       "</style>\n",
       "<table border=\"1\" class=\"dataframe\">\n",
       "  <thead>\n",
       "    <tr style=\"text-align: right;\">\n",
       "      <th></th>\n",
       "      <th>Children</th>\n",
       "      <th>Age</th>\n",
       "      <th>Income</th>\n",
       "      <th>Outage_sec_perweek</th>\n",
       "      <th>Email</th>\n",
       "      <th>Contacts</th>\n",
       "      <th>Yearly_equip_failure</th>\n",
       "      <th>Tenure</th>\n",
       "      <th>MonthlyCharge</th>\n",
       "      <th>Bandwidth_GB_Year</th>\n",
       "      <th>Timely_Response</th>\n",
       "      <th>Timely_Fixes</th>\n",
       "      <th>Timely_Replacements</th>\n",
       "      <th>Reliablility</th>\n",
       "      <th>Plentiful_Options</th>\n",
       "      <th>Respectfullness</th>\n",
       "      <th>Courteous_Exchanges</th>\n",
       "      <th>Active_Listening</th>\n",
       "      <th>DummyChurn</th>\n",
       "    </tr>\n",
       "  </thead>\n",
       "  <tbody>\n",
       "    <tr>\n",
       "      <th>0</th>\n",
       "      <td>0</td>\n",
       "      <td>68</td>\n",
       "      <td>28561.99</td>\n",
       "      <td>7.978323</td>\n",
       "      <td>10</td>\n",
       "      <td>0</td>\n",
       "      <td>1</td>\n",
       "      <td>6.795513</td>\n",
       "      <td>172.455519</td>\n",
       "      <td>904.536110</td>\n",
       "      <td>5</td>\n",
       "      <td>5</td>\n",
       "      <td>5</td>\n",
       "      <td>3</td>\n",
       "      <td>4</td>\n",
       "      <td>4</td>\n",
       "      <td>3</td>\n",
       "      <td>4</td>\n",
       "      <td>0</td>\n",
       "    </tr>\n",
       "    <tr>\n",
       "      <th>1</th>\n",
       "      <td>1</td>\n",
       "      <td>27</td>\n",
       "      <td>21704.77</td>\n",
       "      <td>11.699080</td>\n",
       "      <td>12</td>\n",
       "      <td>0</td>\n",
       "      <td>1</td>\n",
       "      <td>1.156681</td>\n",
       "      <td>242.632554</td>\n",
       "      <td>800.982766</td>\n",
       "      <td>3</td>\n",
       "      <td>4</td>\n",
       "      <td>3</td>\n",
       "      <td>3</td>\n",
       "      <td>4</td>\n",
       "      <td>3</td>\n",
       "      <td>4</td>\n",
       "      <td>4</td>\n",
       "      <td>1</td>\n",
       "    </tr>\n",
       "    <tr>\n",
       "      <th>2</th>\n",
       "      <td>4</td>\n",
       "      <td>50</td>\n",
       "      <td>9609.57</td>\n",
       "      <td>10.752800</td>\n",
       "      <td>9</td>\n",
       "      <td>0</td>\n",
       "      <td>1</td>\n",
       "      <td>15.754144</td>\n",
       "      <td>159.947583</td>\n",
       "      <td>2054.706961</td>\n",
       "      <td>4</td>\n",
       "      <td>4</td>\n",
       "      <td>2</td>\n",
       "      <td>4</td>\n",
       "      <td>4</td>\n",
       "      <td>3</td>\n",
       "      <td>3</td>\n",
       "      <td>3</td>\n",
       "      <td>0</td>\n",
       "    </tr>\n",
       "    <tr>\n",
       "      <th>3</th>\n",
       "      <td>1</td>\n",
       "      <td>48</td>\n",
       "      <td>18925.23</td>\n",
       "      <td>14.913540</td>\n",
       "      <td>15</td>\n",
       "      <td>2</td>\n",
       "      <td>0</td>\n",
       "      <td>17.087227</td>\n",
       "      <td>119.956840</td>\n",
       "      <td>2164.579412</td>\n",
       "      <td>4</td>\n",
       "      <td>4</td>\n",
       "      <td>4</td>\n",
       "      <td>2</td>\n",
       "      <td>5</td>\n",
       "      <td>4</td>\n",
       "      <td>3</td>\n",
       "      <td>3</td>\n",
       "      <td>0</td>\n",
       "    </tr>\n",
       "    <tr>\n",
       "      <th>4</th>\n",
       "      <td>0</td>\n",
       "      <td>83</td>\n",
       "      <td>40074.19</td>\n",
       "      <td>8.147417</td>\n",
       "      <td>16</td>\n",
       "      <td>2</td>\n",
       "      <td>1</td>\n",
       "      <td>1.670972</td>\n",
       "      <td>149.948316</td>\n",
       "      <td>271.493436</td>\n",
       "      <td>4</td>\n",
       "      <td>4</td>\n",
       "      <td>4</td>\n",
       "      <td>3</td>\n",
       "      <td>4</td>\n",
       "      <td>4</td>\n",
       "      <td>4</td>\n",
       "      <td>5</td>\n",
       "      <td>1</td>\n",
       "    </tr>\n",
       "  </tbody>\n",
       "</table>\n",
       "</div>"
      ],
      "text/plain": [
       "   Children  Age    Income  Outage_sec_perweek  Email  Contacts  \\\n",
       "0         0   68  28561.99            7.978323     10         0   \n",
       "1         1   27  21704.77           11.699080     12         0   \n",
       "2         4   50   9609.57           10.752800      9         0   \n",
       "3         1   48  18925.23           14.913540     15         2   \n",
       "4         0   83  40074.19            8.147417     16         2   \n",
       "\n",
       "   Yearly_equip_failure     Tenure  MonthlyCharge  Bandwidth_GB_Year  \\\n",
       "0                     1   6.795513     172.455519         904.536110   \n",
       "1                     1   1.156681     242.632554         800.982766   \n",
       "2                     1  15.754144     159.947583        2054.706961   \n",
       "3                     0  17.087227     119.956840        2164.579412   \n",
       "4                     1   1.670972     149.948316         271.493436   \n",
       "\n",
       "   Timely_Response  Timely_Fixes  Timely_Replacements  Reliablility  \\\n",
       "0                5             5                    5             3   \n",
       "1                3             4                    3             3   \n",
       "2                4             4                    2             4   \n",
       "3                4             4                    4             2   \n",
       "4                4             4                    4             3   \n",
       "\n",
       "   Plentiful_Options  Respectfullness  Courteous_Exchanges  Active_Listening  \\\n",
       "0                  4                4                    3                 4   \n",
       "1                  4                3                    4                 4   \n",
       "2                  4                3                    3                 3   \n",
       "3                  5                4                    3                 3   \n",
       "4                  4                4                    4                 5   \n",
       "\n",
       "   DummyChurn  \n",
       "0           0  \n",
       "1           1  \n",
       "2           0  \n",
       "3           0  \n",
       "4           1  "
      ]
     },
     "execution_count": 9,
     "metadata": {},
     "output_type": "execute_result"
    }
   ],
   "source": [
    "#Lets pull the head function once more to verify that this step was completed\n",
    "churn_df.head()"
   ]
  },
  {
   "cell_type": "code",
   "execution_count": 10,
   "id": "5705a0a1",
   "metadata": {},
   "outputs": [],
   "source": [
    "#Lets drop the last few additional columns that we dont need so that we have only the important ones  \n",
    "churn_df = churn_df.drop(columns=['Timely_Response', 'Timely_Fixes', 'Timely_Replacements', 'Reliablility', 'Plentiful_Options', 'Respectfullness', 'Courteous_Exchanges', 'Active_Listening', 'Income', 'Outage_sec_perweek', 'Email', 'Contacts', 'Yearly_equip_failure'])"
   ]
  },
  {
   "cell_type": "code",
   "execution_count": 11,
   "id": "c0bda53d",
   "metadata": {},
   "outputs": [
    {
     "data": {
      "text/html": [
       "<div>\n",
       "<style scoped>\n",
       "    .dataframe tbody tr th:only-of-type {\n",
       "        vertical-align: middle;\n",
       "    }\n",
       "\n",
       "    .dataframe tbody tr th {\n",
       "        vertical-align: top;\n",
       "    }\n",
       "\n",
       "    .dataframe thead th {\n",
       "        text-align: right;\n",
       "    }\n",
       "</style>\n",
       "<table border=\"1\" class=\"dataframe\">\n",
       "  <thead>\n",
       "    <tr style=\"text-align: right;\">\n",
       "      <th></th>\n",
       "      <th>Children</th>\n",
       "      <th>Age</th>\n",
       "      <th>Tenure</th>\n",
       "      <th>MonthlyCharge</th>\n",
       "      <th>Bandwidth_GB_Year</th>\n",
       "      <th>DummyChurn</th>\n",
       "    </tr>\n",
       "  </thead>\n",
       "  <tbody>\n",
       "    <tr>\n",
       "      <th>0</th>\n",
       "      <td>0</td>\n",
       "      <td>68</td>\n",
       "      <td>6.795513</td>\n",
       "      <td>172.455519</td>\n",
       "      <td>904.536110</td>\n",
       "      <td>0</td>\n",
       "    </tr>\n",
       "    <tr>\n",
       "      <th>1</th>\n",
       "      <td>1</td>\n",
       "      <td>27</td>\n",
       "      <td>1.156681</td>\n",
       "      <td>242.632554</td>\n",
       "      <td>800.982766</td>\n",
       "      <td>1</td>\n",
       "    </tr>\n",
       "    <tr>\n",
       "      <th>2</th>\n",
       "      <td>4</td>\n",
       "      <td>50</td>\n",
       "      <td>15.754144</td>\n",
       "      <td>159.947583</td>\n",
       "      <td>2054.706961</td>\n",
       "      <td>0</td>\n",
       "    </tr>\n",
       "    <tr>\n",
       "      <th>3</th>\n",
       "      <td>1</td>\n",
       "      <td>48</td>\n",
       "      <td>17.087227</td>\n",
       "      <td>119.956840</td>\n",
       "      <td>2164.579412</td>\n",
       "      <td>0</td>\n",
       "    </tr>\n",
       "    <tr>\n",
       "      <th>4</th>\n",
       "      <td>0</td>\n",
       "      <td>83</td>\n",
       "      <td>1.670972</td>\n",
       "      <td>149.948316</td>\n",
       "      <td>271.493436</td>\n",
       "      <td>1</td>\n",
       "    </tr>\n",
       "  </tbody>\n",
       "</table>\n",
       "</div>"
      ],
      "text/plain": [
       "   Children  Age     Tenure  MonthlyCharge  Bandwidth_GB_Year  DummyChurn\n",
       "0         0   68   6.795513     172.455519         904.536110           0\n",
       "1         1   27   1.156681     242.632554         800.982766           1\n",
       "2         4   50  15.754144     159.947583        2054.706961           0\n",
       "3         1   48  17.087227     119.956840        2164.579412           0\n",
       "4         0   83   1.670972     149.948316         271.493436           1"
      ]
     },
     "execution_count": 11,
     "metadata": {},
     "output_type": "execute_result"
    }
   ],
   "source": [
    "#Pull the head function one more time\n",
    "churn_df.head()"
   ]
  },
  {
   "cell_type": "code",
   "execution_count": 12,
   "id": "95e33268",
   "metadata": {},
   "outputs": [
    {
     "data": {
      "text/plain": [
       "count    10000.000000\n",
       "mean        53.078400\n",
       "std         20.698882\n",
       "min         18.000000\n",
       "25%         35.000000\n",
       "50%         53.000000\n",
       "75%         71.000000\n",
       "max         89.000000\n",
       "Name: Age, dtype: float64"
      ]
     },
     "execution_count": 12,
     "metadata": {},
     "output_type": "execute_result"
    }
   ],
   "source": [
    "# Now lets get a brief summary of the statistics  for our variables to get an idea of the dataset as a whole\n",
    "\n",
    "#Age summary statistics\n",
    "churn_df.Age.describe()\n",
    "\n",
    "#The below shows the mean age is 53, with the youngest age being 18 and the oldest age being 89"
   ]
  },
  {
   "cell_type": "code",
   "execution_count": 13,
   "id": "39cc1a11",
   "metadata": {},
   "outputs": [
    {
     "data": {
      "text/plain": [
       "DummyChurn\n",
       "0    7350\n",
       "1    2650\n",
       "Name: count, dtype: int64"
      ]
     },
     "execution_count": 13,
     "metadata": {},
     "output_type": "execute_result"
    }
   ],
   "source": [
    "#Churn summary statistics\n",
    "churn_df.DummyChurn.value_counts()\n",
    "\n",
    "#The the amount of customers that arent churning is 7350 and the amount that are churning away is 2650"
   ]
  },
  {
   "cell_type": "code",
   "execution_count": 14,
   "id": "a4eac0dd",
   "metadata": {},
   "outputs": [
    {
     "data": {
      "text/plain": [
       "count    10000.0000\n",
       "mean         2.0877\n",
       "std          2.1472\n",
       "min          0.0000\n",
       "25%          0.0000\n",
       "50%          1.0000\n",
       "75%          3.0000\n",
       "max         10.0000\n",
       "Name: Children, dtype: float64"
      ]
     },
     "execution_count": 14,
     "metadata": {},
     "output_type": "execute_result"
    }
   ],
   "source": [
    "#Children summary statistics\n",
    "churn_df.Children.describe()\n",
    "\n",
    "#The below show s that the mean number of children is 2, the min is of course 0 and the max number is 10"
   ]
  },
  {
   "cell_type": "code",
   "execution_count": 15,
   "id": "1f743aa2",
   "metadata": {},
   "outputs": [
    {
     "data": {
      "text/plain": [
       "count    10000.000000\n",
       "mean        34.526188\n",
       "std         26.443063\n",
       "min          1.000259\n",
       "25%          7.917694\n",
       "50%         35.430507\n",
       "75%         61.479795\n",
       "max         71.999280\n",
       "Name: Tenure, dtype: float64"
      ]
     },
     "execution_count": 15,
     "metadata": {},
     "output_type": "execute_result"
    }
   ],
   "source": [
    "#Tenure summary statistics\n",
    "churn_df.Tenure.describe()\n",
    "\n",
    "#The below shows the mean being at 34.53 with the min being at 1 and the max being at 72"
   ]
  },
  {
   "cell_type": "code",
   "execution_count": 16,
   "id": "6579752f",
   "metadata": {},
   "outputs": [
    {
     "data": {
      "text/plain": [
       "count    10000.000000\n",
       "mean       172.624816\n",
       "std         42.943094\n",
       "min         79.978860\n",
       "25%        139.979239\n",
       "50%        167.484700\n",
       "75%        200.734725\n",
       "max        290.160419\n",
       "Name: MonthlyCharge, dtype: float64"
      ]
     },
     "execution_count": 16,
     "metadata": {},
     "output_type": "execute_result"
    }
   ],
   "source": [
    "#MonthlyCharge summary statistics\n",
    "churn_df.MonthlyCharge.describe()\n",
    "\n",
    "#The below shows the mean as $172.62 with the minimum amount being $42.00 94 and the max being 290 "
   ]
  },
  {
   "cell_type": "code",
   "execution_count": 17,
   "id": "a499fee4",
   "metadata": {},
   "outputs": [
    {
     "data": {
      "text/plain": [
       "count    10000.000000\n",
       "mean      3392.341550\n",
       "std       2185.294852\n",
       "min        155.506715\n",
       "25%       1236.470827\n",
       "50%       3279.536903\n",
       "75%       5586.141370\n",
       "max       7158.981530\n",
       "Name: Bandwidth_GB_Year, dtype: float64"
      ]
     },
     "execution_count": 17,
     "metadata": {},
     "output_type": "execute_result"
    }
   ],
   "source": [
    "#Bandwidth_GB_Year summary statistics\n",
    "churn_df.Bandwidth_GB_Year.describe()\n",
    "\n",
    "#The below shows the mean as 3,392.34 GB used per year with the minimum amount being 155.51 and the max being  7,158.98"
   ]
  },
  {
   "cell_type": "code",
   "execution_count": 19,
   "id": "01d7f758",
   "metadata": {},
   "outputs": [
    {
     "name": "stdout",
     "output_type": "stream",
     "text": [
      "Index(['Children', 'Age', 'Tenure', 'MonthlyCharge', 'Bandwidth_GB_Year',\n",
      "       'DummyChurn'],\n",
      "      dtype='object')\n"
     ]
    }
   ],
   "source": [
    "#Now lets save our newly prepared data\n",
    "churn_df.to_csv('churn_prepared.csv')\n",
    "df = churn_df.columns\n",
    "print(df)"
   ]
  },
  {
   "cell_type": "code",
   "execution_count": 20,
   "id": "85376794",
   "metadata": {},
   "outputs": [],
   "source": [
    "#Now lets split the data into training and test sets\n",
    "\n",
    "#Set the independent variables as my X\n",
    "X = churn_df[['Children', 'Bandwidth_GB_Year', 'Age', 'Tenure', 'MonthlyCharge']]\n",
    "\n",
    "#Set my Target variable as my y\n",
    "y = churn_df[['DummyChurn']]"
   ]
  },
  {
   "cell_type": "code",
   "execution_count": 21,
   "id": "20b6cafd",
   "metadata": {},
   "outputs": [],
   "source": [
    "#Now lets perform the split\n",
    "X_train, X_test, y_train, y_test = train_test_split(X, y, test_size=0.3, random_state=42)"
   ]
  },
  {
   "cell_type": "code",
   "execution_count": 22,
   "id": "87f1cb6e",
   "metadata": {},
   "outputs": [],
   "source": [
    "#Now lets export the test and train datasets\n",
    "X_train.to_csv('X_train_df.csv')"
   ]
  },
  {
   "cell_type": "code",
   "execution_count": 23,
   "id": "20e44625",
   "metadata": {},
   "outputs": [],
   "source": [
    "#X_test\n",
    "X_test.to_csv('X_test_df.csv')"
   ]
  },
  {
   "cell_type": "code",
   "execution_count": 24,
   "id": "358f69b7",
   "metadata": {},
   "outputs": [],
   "source": [
    "#y_train\n",
    "y_train.to_csv('y_train_df.csv')"
   ]
  },
  {
   "cell_type": "code",
   "execution_count": 25,
   "id": "6b7a0905",
   "metadata": {},
   "outputs": [],
   "source": [
    "#y_test\n",
    "y_test.to_csv('y_test_df.csv')"
   ]
  },
  {
   "cell_type": "code",
   "execution_count": 26,
   "id": "10157336",
   "metadata": {},
   "outputs": [],
   "source": [
    "#Now that the data is split, lets create the Decision Tree Model\n",
    "\n",
    "#First lets intialize the model\n",
    "model = DecisionTreeClassifier(random_state=42)"
   ]
  },
  {
   "cell_type": "code",
   "execution_count": 27,
   "id": "8c301173",
   "metadata": {},
   "outputs": [
    {
     "data": {
      "text/html": [
       "<style>#sk-container-id-1 {color: black;}#sk-container-id-1 pre{padding: 0;}#sk-container-id-1 div.sk-toggleable {background-color: white;}#sk-container-id-1 label.sk-toggleable__label {cursor: pointer;display: block;width: 100%;margin-bottom: 0;padding: 0.3em;box-sizing: border-box;text-align: center;}#sk-container-id-1 label.sk-toggleable__label-arrow:before {content: \"▸\";float: left;margin-right: 0.25em;color: #696969;}#sk-container-id-1 label.sk-toggleable__label-arrow:hover:before {color: black;}#sk-container-id-1 div.sk-estimator:hover label.sk-toggleable__label-arrow:before {color: black;}#sk-container-id-1 div.sk-toggleable__content {max-height: 0;max-width: 0;overflow: hidden;text-align: left;background-color: #f0f8ff;}#sk-container-id-1 div.sk-toggleable__content pre {margin: 0.2em;color: black;border-radius: 0.25em;background-color: #f0f8ff;}#sk-container-id-1 input.sk-toggleable__control:checked~div.sk-toggleable__content {max-height: 200px;max-width: 100%;overflow: auto;}#sk-container-id-1 input.sk-toggleable__control:checked~label.sk-toggleable__label-arrow:before {content: \"▾\";}#sk-container-id-1 div.sk-estimator input.sk-toggleable__control:checked~label.sk-toggleable__label {background-color: #d4ebff;}#sk-container-id-1 div.sk-label input.sk-toggleable__control:checked~label.sk-toggleable__label {background-color: #d4ebff;}#sk-container-id-1 input.sk-hidden--visually {border: 0;clip: rect(1px 1px 1px 1px);clip: rect(1px, 1px, 1px, 1px);height: 1px;margin: -1px;overflow: hidden;padding: 0;position: absolute;width: 1px;}#sk-container-id-1 div.sk-estimator {font-family: monospace;background-color: #f0f8ff;border: 1px dotted black;border-radius: 0.25em;box-sizing: border-box;margin-bottom: 0.5em;}#sk-container-id-1 div.sk-estimator:hover {background-color: #d4ebff;}#sk-container-id-1 div.sk-parallel-item::after {content: \"\";width: 100%;border-bottom: 1px solid gray;flex-grow: 1;}#sk-container-id-1 div.sk-label:hover label.sk-toggleable__label {background-color: #d4ebff;}#sk-container-id-1 div.sk-serial::before {content: \"\";position: absolute;border-left: 1px solid gray;box-sizing: border-box;top: 0;bottom: 0;left: 50%;z-index: 0;}#sk-container-id-1 div.sk-serial {display: flex;flex-direction: column;align-items: center;background-color: white;padding-right: 0.2em;padding-left: 0.2em;position: relative;}#sk-container-id-1 div.sk-item {position: relative;z-index: 1;}#sk-container-id-1 div.sk-parallel {display: flex;align-items: stretch;justify-content: center;background-color: white;position: relative;}#sk-container-id-1 div.sk-item::before, #sk-container-id-1 div.sk-parallel-item::before {content: \"\";position: absolute;border-left: 1px solid gray;box-sizing: border-box;top: 0;bottom: 0;left: 50%;z-index: -1;}#sk-container-id-1 div.sk-parallel-item {display: flex;flex-direction: column;z-index: 1;position: relative;background-color: white;}#sk-container-id-1 div.sk-parallel-item:first-child::after {align-self: flex-end;width: 50%;}#sk-container-id-1 div.sk-parallel-item:last-child::after {align-self: flex-start;width: 50%;}#sk-container-id-1 div.sk-parallel-item:only-child::after {width: 0;}#sk-container-id-1 div.sk-dashed-wrapped {border: 1px dashed gray;margin: 0 0.4em 0.5em 0.4em;box-sizing: border-box;padding-bottom: 0.4em;background-color: white;}#sk-container-id-1 div.sk-label label {font-family: monospace;font-weight: bold;display: inline-block;line-height: 1.2em;}#sk-container-id-1 div.sk-label-container {text-align: center;}#sk-container-id-1 div.sk-container {/* jupyter's `normalize.less` sets `[hidden] { display: none; }` but bootstrap.min.css set `[hidden] { display: none !important; }` so we also need the `!important` here to be able to override the default hidden behavior on the sphinx rendered scikit-learn.org. See: https://github.com/scikit-learn/scikit-learn/issues/21755 */display: inline-block !important;position: relative;}#sk-container-id-1 div.sk-text-repr-fallback {display: none;}</style><div id=\"sk-container-id-1\" class=\"sk-top-container\"><div class=\"sk-text-repr-fallback\"><pre>DecisionTreeClassifier(random_state=42)</pre><b>In a Jupyter environment, please rerun this cell to show the HTML representation or trust the notebook. <br />On GitHub, the HTML representation is unable to render, please try loading this page with nbviewer.org.</b></div><div class=\"sk-container\" hidden><div class=\"sk-item\"><div class=\"sk-estimator sk-toggleable\"><input class=\"sk-toggleable__control sk-hidden--visually\" id=\"sk-estimator-id-1\" type=\"checkbox\" checked><label for=\"sk-estimator-id-1\" class=\"sk-toggleable__label sk-toggleable__label-arrow\">DecisionTreeClassifier</label><div class=\"sk-toggleable__content\"><pre>DecisionTreeClassifier(random_state=42)</pre></div></div></div></div></div>"
      ],
      "text/plain": [
       "DecisionTreeClassifier(random_state=42)"
      ]
     },
     "execution_count": 27,
     "metadata": {},
     "output_type": "execute_result"
    }
   ],
   "source": [
    "#Next we fit the decision tree to our training data\n",
    "model.fit(X_train, y_train)\n"
   ]
  },
  {
   "cell_type": "code",
   "execution_count": 28,
   "id": "14bea9c8",
   "metadata": {},
   "outputs": [],
   "source": [
    "#After this we can use the now trained model to make predictions on our test data\n",
    "y_pred = model.predict(X_test)"
   ]
  },
  {
   "cell_type": "code",
   "execution_count": 30,
   "id": "33f25c65",
   "metadata": {},
   "outputs": [
    {
     "data": {
      "text/plain": [
       "0.7833333333333333"
      ]
     },
     "execution_count": 30,
     "metadata": {},
     "output_type": "execute_result"
    }
   ],
   "source": [
    "#Lastly, lets get some accuracy scores to see how our model performs\n",
    "\n",
    "#The Test Accuracy score\n",
    "model.score(X_test, y_test)"
   ]
  },
  {
   "cell_type": "code",
   "execution_count": 31,
   "id": "63f77da5",
   "metadata": {},
   "outputs": [
    {
     "data": {
      "text/plain": [
       "1.0"
      ]
     },
     "execution_count": 31,
     "metadata": {},
     "output_type": "execute_result"
    }
   ],
   "source": [
    "#The Train Accuracy score\n",
    "model.score(X_train, y_train)"
   ]
  },
  {
   "cell_type": "code",
   "execution_count": null,
   "id": "d7d30722",
   "metadata": {},
   "outputs": [],
   "source": [
    "#As you can see from the above results:\n",
    "#It seems that the model is overfitting the train accuracy (larger than 10%)\n",
    "#This indicates that the model will require some tuning to reduce the gap"
   ]
  },
  {
   "cell_type": "code",
   "execution_count": 33,
   "id": "e5d63de3",
   "metadata": {},
   "outputs": [
    {
     "name": "stdout",
     "output_type": "stream",
     "text": [
      "0.21666666666666667\n"
     ]
    }
   ],
   "source": [
    "#For the Mean Standard Error\n",
    "MSE = mean_squared_error(y_test, y_pred)\n",
    "\n",
    "print(MSE)"
   ]
  },
  {
   "cell_type": "code",
   "execution_count": null,
   "id": "58f38237",
   "metadata": {},
   "outputs": [],
   "source": [
    "#The above MSE score is a .22 which is fairly high considering our target varible only ranges from 1 to 0\n",
    "#This also indicates that our model needs to be tuned some more."
   ]
  }
 ],
 "metadata": {
  "kernelspec": {
   "display_name": "Python 3 (ipykernel)",
   "language": "python",
   "name": "python3"
  },
  "language_info": {
   "codemirror_mode": {
    "name": "ipython",
    "version": 3
   },
   "file_extension": ".py",
   "mimetype": "text/x-python",
   "name": "python",
   "nbconvert_exporter": "python",
   "pygments_lexer": "ipython3",
   "version": "3.11.5"
  }
 },
 "nbformat": 4,
 "nbformat_minor": 5
}
